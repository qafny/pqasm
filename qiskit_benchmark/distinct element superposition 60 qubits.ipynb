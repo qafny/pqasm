{
 "cells": [
  {
   "cell_type": "code",
   "id": "initial_id",
   "metadata": {
    "collapsed": true
   },
   "source": [
    "from qiskit import QuantumCircuit, transpile, QuantumRegister, ClassicalRegister\n",
    "from qiskit.visualization import plot_histogram\n",
    "from qiskit.circuit.library import HalfAdderGate\n",
    "from qiskit_aer import AerSimulator\n",
    "N_COUNT = 60\n",
    "qr1 = QuantumRegister(N_COUNT, 'q1')\n",
    "qr2 = QuantumRegister(N_COUNT, 'q2') #\n",
    "qr3 = QuantumRegister(N_COUNT, 'q3') #\n",
    "qr4 = QuantumRegister(N_COUNT, 'q4') #\n",
    "qr5 = QuantumRegister(N_COUNT, 'q5') #\n",
    "cl1 = ClassicalRegister(N_COUNT, 'c1')\n",
    "cl2 = ClassicalRegister(N_COUNT, 'c2')\n",
    "qr6 = QuantumRegister(N_COUNT+1, 'q6')\n",
    "cl3 = ClassicalRegister(1, 'c3')\n",
    "qc = QuantumCircuit(qr1, qr2, qr3, qr4, qr5, qr6, cl1, cl2, cl3)\n",
    "\n",
    "for q in range(60,120):\n",
    "    qc.h(q)\n",
    "adder = HalfAdderGate(num_state_qubits=N_COUNT)\n",
    "oneAdder = HalfAdderGate(num_state_qubits=N_COUNT//2)\n",
    "qc.x(range(60,120))\n",
    "qc.append(adder, [*range(0,120), qr6[0]])\n",
    "qc.append(oneAdder, qr6)\n",
    "qc.x(range(60,120))\n",
    "qc.x(range(120,180))\n",
    "qc.append(adder, [*range(0,60),*range(120,180), qr6[0]])\n",
    "qc.append(oneAdder, qr6)\n",
    "qc.x(range(120,180))\n",
    "qc.x(range(180,240))\n",
    "qc.append(adder, [*range(0,60),*range(180,240), qr6[0]])\n",
    "qc.append(oneAdder, qr6)\n",
    "qc.x(range(180,240))\n",
    "qc.x(range(240,300))\n",
    "qc.append(adder, [*range(0,60),*range(240,300), qr6[0]])\n",
    "qc.append(oneAdder, qr6)\n",
    "qc.x(range(240,300))\n",
    "qc.x(range(120, 180))\n",
    "qc.append(adder, [*range(60,120),*range(120, 180), qr6[0]])\n",
    "qc.append(oneAdder, qr6)\n",
    "qc.x(range(120, 180))\n",
    "qc.x(range(180,240))\n",
    "qc.append(adder, [*range(60,120),*range(180,240), qr6[0]])\n",
    "qc.append(oneAdder, qr6)\n",
    "qc.x(range(180,240))\n",
    "qc.x(range(240,300))\n",
    "qc.append(adder, [*range(60,120),*range(240,300), qr6[0]])\n",
    "qc.append(oneAdder, qr6)\n",
    "qc.x(range(240,300))\n",
    "qc.x(range(180,240))\n",
    "qc.append(adder, [*range(120,180),*range(180,240), qr6[0]])\n",
    "qc.append(oneAdder, qr6)\n",
    "qc.x(range(180,240))\n",
    "qc.x(range(240,300))\n",
    "qc.append(adder, [*range(120,180),*range(240,300), qr6[0]])\n",
    "qc.append(oneAdder, qr6)\n",
    "qc.x(range(240,300))\n",
    "qc.x(range(240,300))\n",
    "qc.append(adder, [*range(180,240),*range(240,300), qr6[0]])\n",
    "qc.append(oneAdder, qr6)\n",
    "qc.x(range(240,300))\n",
    "qc.draw('mpl')\n"
   ],
   "outputs": [],
   "execution_count": null
  },
  {
   "metadata": {},
   "cell_type": "code",
   "source": [
    "print('qc results')\n",
    "print('gates used: ', dict(qc.count_ops()))\n",
    "print('total # of gates used: ', sum(dict(qc.count_ops()).values()))\n",
    "print('number of qubits: ', qc.num_qubits)"
   ],
   "id": "72035ced07eef0db",
   "outputs": [],
   "execution_count": null
  },
  {
   "metadata": {
    "jupyter": {
     "is_executing": true
    }
   },
   "cell_type": "code",
   "source": [
    "# Run and get counts\n",
    "# The 60 qubit circuit will not transpile\n",
    "simulator = AerSimulator()\n",
    "qc = transpile(qc, simulator)\n",
    "result = simulator.run(qc).result()\n",
    "counts = result.get_counts(qc)\n",
    "plot_histogram(counts, title='Bell-State counts')"
   ],
   "id": "a1929d091666f994",
   "outputs": [],
   "execution_count": null
  },
  {
   "metadata": {},
   "cell_type": "code",
   "source": "",
   "id": "c956510875764c3e",
   "outputs": [],
   "execution_count": null
  }
 ],
 "metadata": {
  "kernelspec": {
   "display_name": "Python 3",
   "language": "python",
   "name": "python3"
  },
  "language_info": {
   "codemirror_mode": {
    "name": "ipython",
    "version": 2
   },
   "file_extension": ".py",
   "mimetype": "text/x-python",
   "name": "python",
   "nbconvert_exporter": "python",
   "pygments_lexer": "ipython2",
   "version": "2.7.6"
  }
 },
 "nbformat": 4,
 "nbformat_minor": 5
}
