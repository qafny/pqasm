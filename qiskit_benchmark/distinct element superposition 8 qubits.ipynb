{
 "cells": [
  {
   "cell_type": "code",
   "id": "initial_id",
   "metadata": {
    "collapsed": true
   },
   "source": [
    "from qiskit import QuantumCircuit, transpile, QuantumRegister, ClassicalRegister\n",
    "from qiskit.visualization import plot_histogram\n",
    "from qiskit.circuit.library import HalfAdderGate\n",
    "from qiskit_aer import AerSimulator\n",
    "N_COUNT = 8\n",
    "qr1 = QuantumRegister(N_COUNT, 'q1') # 0-7,\n",
    "qr2 = QuantumRegister(N_COUNT, 'q2') # 8-15,\n",
    "qr3 = QuantumRegister(N_COUNT, 'q3') # 16-23\n",
    "qr4 = QuantumRegister(N_COUNT, 'q4') # 24-31\n",
    "qr5 = QuantumRegister(N_COUNT, 'q5') # 32-39\n",
    "cl1 = ClassicalRegister(N_COUNT, 'c1')\n",
    "cl2 = ClassicalRegister(N_COUNT, 'c2')\n",
    "qr6 = QuantumRegister(N_COUNT+1, 'q6')\n",
    "cl3 = ClassicalRegister(1, 'c3')\n",
    "qc = QuantumCircuit(qr1, qr2, qr3, qr4, qr5, qr6, cl1, cl2, cl3)\n",
    "\n",
    "for q in range(8,16):\n",
    "    qc.h(q)\n",
    "adder = HalfAdderGate(num_state_qubits=8)\n",
    "oneAdder = HalfAdderGate(num_state_qubits=4)\n",
    "qc.x(range(8,16))\n",
    "qc.append(adder, [*range(0,16), qr6[0]])\n",
    "qc.append(oneAdder, qr6)\n",
    "qc.x(range(8,16))\n",
    "qc.x(range(16,24))\n",
    "qc.append(adder, [*range(0,8),*range(16,24), qr6[0]])\n",
    "qc.append(oneAdder, qr6)\n",
    "qc.x(range(16,24))\n",
    "qc.x(range(24,32))\n",
    "qc.append(adder, [*range(0,8),*range(24,32), qr6[0]])\n",
    "qc.append(oneAdder, qr6)\n",
    "qc.x(range(24,32))\n",
    "qc.x(range(32, 40))\n",
    "qc.append(adder, [*range(0,8),*range(32, 40), qr6[0]])\n",
    "qc.append(oneAdder, qr6)\n",
    "qc.x(range(32, 40))\n",
    "qc.x(range(16,24))\n",
    "qc.append(adder, [*range(8,16),*range(16,24), qr6[0]])\n",
    "qc.append(oneAdder, qr6)\n",
    "qc.x(range(16,24))\n",
    "qc.x(range(24,32))\n",
    "qc.append(adder, [*range(8,16),*range(24,32), qr6[0]])\n",
    "qc.append(oneAdder, qr6)\n",
    "qc.x(range(24,32))\n",
    "qc.x(range(32,40))\n",
    "qc.append(adder, [*range(8,16),*range(32,40), qr6[0]])\n",
    "qc.append(oneAdder, qr6)\n",
    "qc.x(range(32,40))\n",
    "qc.x(range(24,32))\n",
    "qc.append(adder, [*range(16,24),*range(24,32), qr6[0]])\n",
    "qc.append(oneAdder, qr6)\n",
    "qc.x(range(24,32))\n",
    "qc.x(range(32,40))\n",
    "qc.append(adder, [*range(16,24),*range(32,40), qr6[0]])\n",
    "qc.append(oneAdder, qr6)\n",
    "qc.x(range(32,40))\n",
    "qc.x(range(32,40))\n",
    "qc.append(adder, [*range(24,32),*range(32,40), qr6[0]])\n",
    "qc.append(oneAdder, qr6)\n",
    "qc.x(range(32,40))\n",
    "qc.draw('mpl')"
   ],
   "outputs": [],
   "execution_count": null
  },
  {
   "metadata": {},
   "cell_type": "code",
   "source": [
    "print('qc results')\n",
    "print('gates used: ', dict(qc.count_ops()))\n",
    "print('total # of gates used: ', sum(dict(qc.count_ops()).values()))\n",
    "print('number of qubits: ', qc.num_qubits)"
   ],
   "id": "943fd99d8e80c05e",
   "outputs": [],
   "execution_count": null
  },
  {
   "metadata": {},
   "cell_type": "code",
   "source": [
    "# The circuit is too large to transpile\n",
    "simulator = AerSimulator()\n",
    "qcircuit = transpile(qc, simulator)"
   ],
   "id": "a1929d091666f994",
   "outputs": [],
   "execution_count": null
  },
  {
   "metadata": {},
   "cell_type": "code",
   "source": "result = simulator.run(qcircuit).result()",
   "id": "1924d2a5f66cbd65",
   "outputs": [],
   "execution_count": null
  },
  {
   "metadata": {},
   "cell_type": "code",
   "source": [
    "print('untranspiled qc results')\n",
    "print('gates used: ', dict(qc.count_ops()))\n",
    "print('total # of gates used: ', sum(dict(qc.count_ops()).values()))\n",
    "print('number of qubits: ', qc.num_qubits)\n",
    "print ('transpiled qcircuit results')\n",
    "print('gates used: ', dict(qcircuit.count_ops()))\n",
    "print('total # of gates used: ', sum(dict(qcircuit.count_ops()).values()))\n",
    "print('number of qubits: ', qcircuit.num_qubits)\n",
    "counts = result.get_counts(qc)\n",
    "plot_histogram(counts, title='Bell-State counts')"
   ],
   "id": "c956510875764c3e",
   "outputs": [],
   "execution_count": null
  },
  {
   "metadata": {},
   "cell_type": "code",
   "source": "",
   "id": "9639fb68a23b2f31",
   "outputs": [],
   "execution_count": null
  }
 ],
 "metadata": {
  "kernelspec": {
   "display_name": "Python 3",
   "language": "python",
   "name": "python3"
  },
  "language_info": {
   "codemirror_mode": {
    "name": "ipython",
    "version": 2
   },
   "file_extension": ".py",
   "mimetype": "text/x-python",
   "name": "python",
   "nbconvert_exporter": "python",
   "pygments_lexer": "ipython2",
   "version": "2.7.6"
  }
 },
 "nbformat": 4,
 "nbformat_minor": 5
}
