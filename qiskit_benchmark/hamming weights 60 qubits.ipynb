{
 "cells": [
  {
   "cell_type": "code",
   "id": "initial_id",
   "metadata": {
    "collapsed": true
   },
   "source": [
    "N_COUNT = 60\n",
    "from qiskit import QuantumCircuit, transpile, QuantumRegister, ClassicalRegister\n",
    "from qiskit.circuit.library import HalfAdderGate\n",
    "from qiskit_aer import AerSimulator\n",
    "qr1 = QuantumRegister(N_COUNT, 'q1')\n",
    "qr2 = QuantumRegister(N_COUNT, 'q2')\n",
    "qr3 = QuantumRegister(N_COUNT, 'q3')\n",
    "cl1 = ClassicalRegister(N_COUNT, 'c1')\n",
    "cl2 = ClassicalRegister(N_COUNT, 'c2')\n",
    "qr4 = QuantumRegister(1, 'q4')\n",
    "cl3 = ClassicalRegister(1, 'c3')\n",
    "\n",
    "qc = QuantumCircuit(qr1, qr2, qr3, qr4, cl1, cl2, cl3)\n",
    "adder = HalfAdderGate(num_state_qubits=N_COUNT-1).control(1)\n",
    "for q in range(N_COUNT):\n",
    "    qc.h(qr1[q])\n",
    "for q in range(N_COUNT):\n",
    "    qc.x(qr2[0])\n",
    "    qc.append(adder, [q]+list(range(60,179)))\n",
    "qc.draw('mpl')"
   ],
   "outputs": [],
   "execution_count": null
  },
  {
   "metadata": {},
   "cell_type": "code",
   "source": [
    "print('gates used: ', dict(qc.count_ops()))\n",
    "print('total # of gates used: ', sum(dict(qc.count_ops()).values()))\n",
    "print('number of qubits: ', qc.num_qubits)"
   ],
   "id": "972e05f1a6c10efa",
   "outputs": [],
   "execution_count": null
  },
  {
   "metadata": {},
   "cell_type": "code",
   "source": [
    "# This circuit will not transpile as it is too large\n",
    "simulator = AerSimulator()\n",
    "qcircuit = transpile(qc, simulator)\n",
    "result = simulator.run(qcircuit).result()\n",
    "print(result)\n",
    "print('qc results')\n",
    "print('gates used: ', dict(qc.count_ops()))\n",
    "print('total # of gates used: ', sum(dict(qc.count_ops()).values()))\n",
    "print('number of qubits: ', qc.num_qubits)\n",
    "print ('transpiled qcircuit results')\n",
    "print('gates used: ', dict(qcircuit.count_ops()))\n",
    "print('total # of gates used: ', sum(dict(qcircuit.count_ops()).values()))\n",
    "print('number of qubits: ', qcircuit.num_qubits)\n",
    "# counts = result.get_counts(qcircuit)\n",
    "# plot_histogram(counts, title='Bell-State counts')"
   ],
   "id": "27147cf7117b6f35",
   "outputs": [],
   "execution_count": null
  }
 ],
 "metadata": {
  "kernelspec": {
   "display_name": "Python 3",
   "language": "python",
   "name": "python3"
  },
  "language_info": {
   "codemirror_mode": {
    "name": "ipython",
    "version": 2
   },
   "file_extension": ".py",
   "mimetype": "text/x-python",
   "name": "python",
   "nbconvert_exporter": "python",
   "pygments_lexer": "ipython2",
   "version": "2.7.6"
  }
 },
 "nbformat": 4,
 "nbformat_minor": 5
}
