{
 "cells": [
  {
   "cell_type": "code",
   "id": "initial_id",
   "metadata": {
    "collapsed": true
   },
   "source": [
    "N_COUNT = 60\n",
    "from qiskit import QuantumCircuit, transpile, QuantumRegister, ClassicalRegister\n",
    "from qiskit_aer import AerSimulator\n",
    "qr1 = QuantumRegister(N_COUNT, 'q1')\n",
    "qr2 = QuantumRegister(N_COUNT, 'q2')\n",
    "cl1 = ClassicalRegister(N_COUNT, 'c1')\n",
    "cl2 = ClassicalRegister(N_COUNT, 'c2')\n",
    "qr3 = QuantumRegister(1, 'q3')\n",
    "cl3 = ClassicalRegister(1, 'c3')\n",
    "\n",
    "qc = QuantumCircuit(qr1, qr2, qr3, cl1, cl2, cl3)\n",
    "for q in range(N_COUNT):\n",
    "    qc.h(qr1[q])\n",
    "for q in range(N_COUNT):\n",
    "    qc.cry(theta=(q/N_COUNT), control_qubit=qr1[q], target_qubit= qr3[0])\n",
    "qc.draw('mpl')\n"
   ],
   "outputs": [],
   "execution_count": null
  },
  {
   "metadata": {},
   "cell_type": "code",
   "source": [
    "print('qc results')\n",
    "print('gates used: ', dict(qc.count_ops()))\n",
    "print('total # of gates used: ', sum(dict(qc.count_ops()).values()))\n",
    "print('number of qubits: ', qc.num_qubits)"
   ],
   "id": "51f3244df18bc94d",
   "outputs": [],
   "execution_count": null
  },
  {
   "metadata": {},
   "cell_type": "code",
   "source": [
    "# Circuit will not transpile because of size\n",
    "simulator = AerSimulator()\n",
    "qcircuit = transpile(qc, simulator)\n",
    "result = simulator.run(qcircuit).result()"
   ],
   "id": "9a32ff0039ee2823",
   "outputs": [],
   "execution_count": null
  },
  {
   "metadata": {},
   "cell_type": "code",
   "source": [
    "print(result)\n",
    "print('qc results')\n",
    "print('gates used: ', dict(qc.count_ops()))\n",
    "print('total # of gates used: ', sum(dict(qc.count_ops()).values()))\n",
    "print('number of qubits: ', qc.num_qubits)\n",
    "print ('transpiled qcircuit results')\n",
    "print('gates used: ', dict(qcircuit.count_ops()))\n",
    "print('total # of gates used: ', sum(dict(qcircuit.count_ops()).values()))\n",
    "print('number of qubits: ', qcircuit.num_qubits)"
   ],
   "id": "32cfa4c3e1f3a37f",
   "outputs": [],
   "execution_count": null
  },
  {
   "metadata": {},
   "cell_type": "code",
   "source": "",
   "id": "ac3eb1be95356f6f",
   "outputs": [],
   "execution_count": null
  }
 ],
 "metadata": {
  "kernelspec": {
   "display_name": "Python 3",
   "language": "python",
   "name": "python3"
  },
  "language_info": {
   "codemirror_mode": {
    "name": "ipython",
    "version": 2
   },
   "file_extension": ".py",
   "mimetype": "text/x-python",
   "name": "python",
   "nbconvert_exporter": "python",
   "pygments_lexer": "ipython2",
   "version": "2.7.6"
  }
 },
 "nbformat": 4,
 "nbformat_minor": 5
}
